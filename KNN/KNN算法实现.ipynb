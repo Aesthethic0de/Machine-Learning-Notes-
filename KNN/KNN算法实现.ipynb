{
 "cells": [
  {
   "cell_type": "code",
   "execution_count": 14,
   "metadata": {},
   "outputs": [],
   "source": [
    "import numpy as np \n",
    "from collections import Counter \n",
    "import matplotlib.pyplot as plt \n",
    "from sklearn import datasets \n",
    "from sklearn.utils import shuffle "
   ]
  },
  {
   "cell_type": "markdown",
   "metadata": {},
   "source": [
    "## 导入数据集"
   ]
  },
  {
   "cell_type": "code",
   "execution_count": 15,
   "metadata": {},
   "outputs": [],
   "source": [
    "# 导入 iris dataset \n",
    "iris = datasets.load_iris() "
   ]
  },
  {
   "cell_type": "code",
   "execution_count": 16,
   "metadata": {},
   "outputs": [
    {
     "data": {
      "text/plain": [
       "array([[5.1, 3.5, 1.4, 0.2],\n",
       "       [4.9, 3. , 1.4, 0.2],\n",
       "       [4.7, 3.2, 1.3, 0.2],\n",
       "       [4.6, 3.1, 1.5, 0.2],\n",
       "       [5. , 3.6, 1.4, 0.2],\n",
       "       [5.4, 3.9, 1.7, 0.4],\n",
       "       [4.6, 3.4, 1.4, 0.3],\n",
       "       [5. , 3.4, 1.5, 0.2],\n",
       "       [4.4, 2.9, 1.4, 0.2],\n",
       "       [4.9, 3.1, 1.5, 0.1],\n",
       "       [5.4, 3.7, 1.5, 0.2],\n",
       "       [4.8, 3.4, 1.6, 0.2],\n",
       "       [4.8, 3. , 1.4, 0.1],\n",
       "       [4.3, 3. , 1.1, 0.1],\n",
       "       [5.8, 4. , 1.2, 0.2],\n",
       "       [5.7, 4.4, 1.5, 0.4],\n",
       "       [5.4, 3.9, 1.3, 0.4],\n",
       "       [5.1, 3.5, 1.4, 0.3],\n",
       "       [5.7, 3.8, 1.7, 0.3],\n",
       "       [5.1, 3.8, 1.5, 0.3],\n",
       "       [5.4, 3.4, 1.7, 0.2],\n",
       "       [5.1, 3.7, 1.5, 0.4],\n",
       "       [4.6, 3.6, 1. , 0.2],\n",
       "       [5.1, 3.3, 1.7, 0.5],\n",
       "       [4.8, 3.4, 1.9, 0.2],\n",
       "       [5. , 3. , 1.6, 0.2],\n",
       "       [5. , 3.4, 1.6, 0.4],\n",
       "       [5.2, 3.5, 1.5, 0.2],\n",
       "       [5.2, 3.4, 1.4, 0.2],\n",
       "       [4.7, 3.2, 1.6, 0.2],\n",
       "       [4.8, 3.1, 1.6, 0.2],\n",
       "       [5.4, 3.4, 1.5, 0.4],\n",
       "       [5.2, 4.1, 1.5, 0.1],\n",
       "       [5.5, 4.2, 1.4, 0.2],\n",
       "       [4.9, 3.1, 1.5, 0.2],\n",
       "       [5. , 3.2, 1.2, 0.2],\n",
       "       [5.5, 3.5, 1.3, 0.2],\n",
       "       [4.9, 3.6, 1.4, 0.1],\n",
       "       [4.4, 3. , 1.3, 0.2],\n",
       "       [5.1, 3.4, 1.5, 0.2],\n",
       "       [5. , 3.5, 1.3, 0.3],\n",
       "       [4.5, 2.3, 1.3, 0.3],\n",
       "       [4.4, 3.2, 1.3, 0.2],\n",
       "       [5. , 3.5, 1.6, 0.6],\n",
       "       [5.1, 3.8, 1.9, 0.4],\n",
       "       [4.8, 3. , 1.4, 0.3],\n",
       "       [5.1, 3.8, 1.6, 0.2],\n",
       "       [4.6, 3.2, 1.4, 0.2],\n",
       "       [5.3, 3.7, 1.5, 0.2],\n",
       "       [5. , 3.3, 1.4, 0.2],\n",
       "       [7. , 3.2, 4.7, 1.4],\n",
       "       [6.4, 3.2, 4.5, 1.5],\n",
       "       [6.9, 3.1, 4.9, 1.5],\n",
       "       [5.5, 2.3, 4. , 1.3],\n",
       "       [6.5, 2.8, 4.6, 1.5],\n",
       "       [5.7, 2.8, 4.5, 1.3],\n",
       "       [6.3, 3.3, 4.7, 1.6],\n",
       "       [4.9, 2.4, 3.3, 1. ],\n",
       "       [6.6, 2.9, 4.6, 1.3],\n",
       "       [5.2, 2.7, 3.9, 1.4],\n",
       "       [5. , 2. , 3.5, 1. ],\n",
       "       [5.9, 3. , 4.2, 1.5],\n",
       "       [6. , 2.2, 4. , 1. ],\n",
       "       [6.1, 2.9, 4.7, 1.4],\n",
       "       [5.6, 2.9, 3.6, 1.3],\n",
       "       [6.7, 3.1, 4.4, 1.4],\n",
       "       [5.6, 3. , 4.5, 1.5],\n",
       "       [5.8, 2.7, 4.1, 1. ],\n",
       "       [6.2, 2.2, 4.5, 1.5],\n",
       "       [5.6, 2.5, 3.9, 1.1],\n",
       "       [5.9, 3.2, 4.8, 1.8],\n",
       "       [6.1, 2.8, 4. , 1.3],\n",
       "       [6.3, 2.5, 4.9, 1.5],\n",
       "       [6.1, 2.8, 4.7, 1.2],\n",
       "       [6.4, 2.9, 4.3, 1.3],\n",
       "       [6.6, 3. , 4.4, 1.4],\n",
       "       [6.8, 2.8, 4.8, 1.4],\n",
       "       [6.7, 3. , 5. , 1.7],\n",
       "       [6. , 2.9, 4.5, 1.5],\n",
       "       [5.7, 2.6, 3.5, 1. ],\n",
       "       [5.5, 2.4, 3.8, 1.1],\n",
       "       [5.5, 2.4, 3.7, 1. ],\n",
       "       [5.8, 2.7, 3.9, 1.2],\n",
       "       [6. , 2.7, 5.1, 1.6],\n",
       "       [5.4, 3. , 4.5, 1.5],\n",
       "       [6. , 3.4, 4.5, 1.6],\n",
       "       [6.7, 3.1, 4.7, 1.5],\n",
       "       [6.3, 2.3, 4.4, 1.3],\n",
       "       [5.6, 3. , 4.1, 1.3],\n",
       "       [5.5, 2.5, 4. , 1.3],\n",
       "       [5.5, 2.6, 4.4, 1.2],\n",
       "       [6.1, 3. , 4.6, 1.4],\n",
       "       [5.8, 2.6, 4. , 1.2],\n",
       "       [5. , 2.3, 3.3, 1. ],\n",
       "       [5.6, 2.7, 4.2, 1.3],\n",
       "       [5.7, 3. , 4.2, 1.2],\n",
       "       [5.7, 2.9, 4.2, 1.3],\n",
       "       [6.2, 2.9, 4.3, 1.3],\n",
       "       [5.1, 2.5, 3. , 1.1],\n",
       "       [5.7, 2.8, 4.1, 1.3],\n",
       "       [6.3, 3.3, 6. , 2.5],\n",
       "       [5.8, 2.7, 5.1, 1.9],\n",
       "       [7.1, 3. , 5.9, 2.1],\n",
       "       [6.3, 2.9, 5.6, 1.8],\n",
       "       [6.5, 3. , 5.8, 2.2],\n",
       "       [7.6, 3. , 6.6, 2.1],\n",
       "       [4.9, 2.5, 4.5, 1.7],\n",
       "       [7.3, 2.9, 6.3, 1.8],\n",
       "       [6.7, 2.5, 5.8, 1.8],\n",
       "       [7.2, 3.6, 6.1, 2.5],\n",
       "       [6.5, 3.2, 5.1, 2. ],\n",
       "       [6.4, 2.7, 5.3, 1.9],\n",
       "       [6.8, 3. , 5.5, 2.1],\n",
       "       [5.7, 2.5, 5. , 2. ],\n",
       "       [5.8, 2.8, 5.1, 2.4],\n",
       "       [6.4, 3.2, 5.3, 2.3],\n",
       "       [6.5, 3. , 5.5, 1.8],\n",
       "       [7.7, 3.8, 6.7, 2.2],\n",
       "       [7.7, 2.6, 6.9, 2.3],\n",
       "       [6. , 2.2, 5. , 1.5],\n",
       "       [6.9, 3.2, 5.7, 2.3],\n",
       "       [5.6, 2.8, 4.9, 2. ],\n",
       "       [7.7, 2.8, 6.7, 2. ],\n",
       "       [6.3, 2.7, 4.9, 1.8],\n",
       "       [6.7, 3.3, 5.7, 2.1],\n",
       "       [7.2, 3.2, 6. , 1.8],\n",
       "       [6.2, 2.8, 4.8, 1.8],\n",
       "       [6.1, 3. , 4.9, 1.8],\n",
       "       [6.4, 2.8, 5.6, 2.1],\n",
       "       [7.2, 3. , 5.8, 1.6],\n",
       "       [7.4, 2.8, 6.1, 1.9],\n",
       "       [7.9, 3.8, 6.4, 2. ],\n",
       "       [6.4, 2.8, 5.6, 2.2],\n",
       "       [6.3, 2.8, 5.1, 1.5],\n",
       "       [6.1, 2.6, 5.6, 1.4],\n",
       "       [7.7, 3. , 6.1, 2.3],\n",
       "       [6.3, 3.4, 5.6, 2.4],\n",
       "       [6.4, 3.1, 5.5, 1.8],\n",
       "       [6. , 3. , 4.8, 1.8],\n",
       "       [6.9, 3.1, 5.4, 2.1],\n",
       "       [6.7, 3.1, 5.6, 2.4],\n",
       "       [6.9, 3.1, 5.1, 2.3],\n",
       "       [5.8, 2.7, 5.1, 1.9],\n",
       "       [6.8, 3.2, 5.9, 2.3],\n",
       "       [6.7, 3.3, 5.7, 2.5],\n",
       "       [6.7, 3. , 5.2, 2.3],\n",
       "       [6.3, 2.5, 5. , 1.9],\n",
       "       [6.5, 3. , 5.2, 2. ],\n",
       "       [6.2, 3.4, 5.4, 2.3],\n",
       "       [5.9, 3. , 5.1, 1.8]])"
      ]
     },
     "execution_count": 16,
     "metadata": {},
     "output_type": "execute_result"
    }
   ],
   "source": [
    "iris.data "
   ]
  },
  {
   "cell_type": "code",
   "execution_count": 17,
   "metadata": {},
   "outputs": [
    {
     "data": {
      "text/plain": [
       "array([0, 0, 0, 0, 0, 0, 0, 0, 0, 0, 0, 0, 0, 0, 0, 0, 0, 0, 0, 0, 0, 0,\n",
       "       0, 0, 0, 0, 0, 0, 0, 0, 0, 0, 0, 0, 0, 0, 0, 0, 0, 0, 0, 0, 0, 0,\n",
       "       0, 0, 0, 0, 0, 0, 1, 1, 1, 1, 1, 1, 1, 1, 1, 1, 1, 1, 1, 1, 1, 1,\n",
       "       1, 1, 1, 1, 1, 1, 1, 1, 1, 1, 1, 1, 1, 1, 1, 1, 1, 1, 1, 1, 1, 1,\n",
       "       1, 1, 1, 1, 1, 1, 1, 1, 1, 1, 1, 1, 2, 2, 2, 2, 2, 2, 2, 2, 2, 2,\n",
       "       2, 2, 2, 2, 2, 2, 2, 2, 2, 2, 2, 2, 2, 2, 2, 2, 2, 2, 2, 2, 2, 2,\n",
       "       2, 2, 2, 2, 2, 2, 2, 2, 2, 2, 2, 2, 2, 2, 2, 2, 2, 2])"
      ]
     },
     "execution_count": 17,
     "metadata": {},
     "output_type": "execute_result"
    }
   ],
   "source": [
    "iris.target "
   ]
  },
  {
   "cell_type": "code",
   "execution_count": 18,
   "metadata": {},
   "outputs": [],
   "source": [
    "X,y = shuffle(iris.data, iris.target, random_state = 13) "
   ]
  },
  {
   "cell_type": "code",
   "execution_count": 19,
   "metadata": {},
   "outputs": [],
   "source": [
    "#数据转换为float32 格式 \n",
    "X = X.astype('float32') "
   ]
  },
  {
   "cell_type": "markdown",
   "metadata": {},
   "source": [
    "## 划分训练集，测试集"
   ]
  },
  {
   "cell_type": "code",
   "execution_count": 20,
   "metadata": {},
   "outputs": [],
   "source": [
    "# 划分训练集测试集，比例为7:3 \n",
    "offset = int(X.shape[0]*0.7) \n",
    "X_train,y_train = X[:offset],y[:offset] \n",
    "X_test,y_test = X[offset:],y[offset:]  \n",
    " "
   ]
  },
  {
   "cell_type": "code",
   "execution_count": 21,
   "metadata": {},
   "outputs": [],
   "source": [
    "# 将标签转为竖向量 \n",
    "y_train = y_train.reshape(-1,1) \n",
    "y_test = y_test.reshape(-1,1) "
   ]
  },
  {
   "cell_type": "code",
   "execution_count": 22,
   "metadata": {},
   "outputs": [
    {
     "name": "stdout",
     "output_type": "stream",
     "text": [
      "X_train =  (105, 4)\n",
      "X_test =  (45, 4)\n",
      "y_train =  (105, 1)\n",
      "y_test =  (45, 1)\n"
     ]
    }
   ],
   "source": [
    "#打印训练集测试集大小 \n",
    "print('X_train = ',X_train.shape) \n",
    "print('X_test = ',X_test.shape) \n",
    "print('y_train = ',y_train.shape) \n",
    "print('y_test = ',y_test.shape) "
   ]
  },
  {
   "cell_type": "markdown",
   "metadata": {},
   "source": [
    "## 定义欧氏距离 "
   ]
  },
  {
   "cell_type": "markdown",
   "metadata": {},
   "source": [
    "矩阵的欧式距离： $$D_{ij} = ||x_i - x_j||^{2}_{2}\\\\ = (x_{i} - x_{j})^{T}(x_{i}-x_{j})\\\\ = x^{T}_{i} x_{i} + x_{j}x^{T}_{j} - 2x^{T}_{i}x_{j}$$  "
   ]
  },
  {
   "cell_type": "code",
   "execution_count": 23,
   "metadata": {},
   "outputs": [],
   "source": [
    "# 定义欧式距离函数 \n",
    "def compute_distances(X, X_train): \n",
    "    \"\"\"\n",
    "    输入： \n",
    "    X: 测试样本实例矩阵 \n",
    "    X_train:训练样本实例矩阵 \n",
    "\n",
    "    输出： \n",
    "    欧式距离 \n",
    "    \"\"\"\n",
    "    # 测试实例样本量 \n",
    "    num_test = X.shape[0] \n",
    "    # 训练实例样本量 \n",
    "    num_train = X_train.shape[0] \n",
    "    # 欧氏距离初始化 \n",
    "    dists = np.zeros((num_test,num_train)) \n",
    "    #测试样本与训练样本的矩阵点乘 \n",
    "    M = np.dot(X,X_train.T) \n",
    "    #测试样本矩阵平方 \n",
    "    te = np.square(X).sum(axis = 1)  # 按行累加 \n",
    "    # 训练样本矩阵平方 \n",
    "    tr = np.square(X_train).sum(axis = 1) \n",
    "    # 计算欧式距离 \n",
    "    dists = np.sqrt(-2*M+tr+np.matrix(te).T)  \n",
    "\n",
    "    return dists  \n"
   ]
  },
  {
   "cell_type": "code",
   "execution_count": 24,
   "metadata": {},
   "outputs": [
    {
     "data": {
      "image/png": "[encoded data removed]",
      "text/plain": [
       "<Figure size 432x288 with 1 Axes>"
      ]
     },
     "metadata": {
      "needs_background": "light"
     },
     "output_type": "display_data"
    }
   ],
   "source": [
    "# 绘制欧式距离图 \n",
    "dists = compute_distances(X_test,X_train) \n",
    "plt.imshow(dists,interpolation= 'none') \n",
    "plt.show() "
   ]
  },
  {
   "cell_type": "markdown",
   "metadata": {},
   "source": [
    "## 标签预测函数 "
   ]
  },
  {
   "cell_type": "code",
   "execution_count": 25,
   "metadata": {},
   "outputs": [],
   "source": [
    "## 定义预测函数 \n",
    "def predict_labels(y_train,dists,k=1): \n",
    "    \"\"\"\n",
    "    输入： \n",
    "    y_train：训练集标签 \n",
    "    dists：训练集与测试集之间的欧式距离矩阵 \n",
    "    k：k值 \n",
    "    输出： \n",
    "    y_pred：测试集预测结果 \n",
    "    \"\"\" \n",
    "    # 测试样本量 \n",
    "    num_test = dists.shape[0] \n",
    "    #初始化测试集预测结果 \n",
    "    y_pred = np.zeros(num_test) \n",
    "    # 遍历 \n",
    "    for i in range(num_test): \n",
    "        #初始化最近邻列表 \n",
    "        closet_y = [] \n",
    "        # 按欧式距离矩阵排序后取索引，并用训练集标签按排序后的索引取值 \n",
    "        #最后展平列表 \n",
    "        labels = y_train[np.argsort(dists[i,:])].flatten() \n",
    "        #取最近的k个值 \n",
    "        closest_y = labels[0:k] \n",
    "        #对最近的k个值进行计数统计 \n",
    "        c = Counter(closest_y) \n",
    "        #取计数最多的那个类别 \n",
    "        y_pred[i] = c.most_common(1)[0][0] \n",
    "\n",
    "    return y_pred "
   ]
  },
  {
   "cell_type": "markdown",
   "metadata": {},
   "source": [
    "## 测试集预测 "
   ]
  },
  {
   "cell_type": "code",
   "execution_count": 26,
   "metadata": {},
   "outputs": [
    {
     "name": "stdout",
     "output_type": "stream",
     "text": [
      "KNN Accuracy based on Numpy: 0.9777777777777777\n"
     ]
    }
   ],
   "source": [
    "#测试集预测结果 \n",
    "y_test_pred = predict_labels(y_train,dists, k = 1) \n",
    "y_test_pred = y_test_pred.reshape(-1,1) \n",
    "\n",
    "# 找出预测正确的实例 \n",
    "num_correct = np.sum(y_test_pred == y_test) \n",
    "\n",
    "#计算分类的准确率 \n",
    "accuracy = float(num_correct)/X_test.shape[0] \n",
    "print('KNN Accuracy based on Numpy:', accuracy) \n"
   ]
  },
  {
   "cell_type": "markdown",
   "metadata": {},
   "source": [
    "## 交叉验证寻找最优k值 "
   ]
  },
  {
   "cell_type": "code",
   "execution_count": 29,
   "metadata": {},
   "outputs": [
    {
     "name": "stdout",
     "output_type": "stream",
     "text": [
      "k = 1,accuracy = 0.904762\n",
      "k = 1,accuracy = 1.000000\n",
      "k = 1,accuracy = 0.952381\n",
      "k = 1,accuracy = 0.857143\n",
      "k = 1,accuracy = 0.952381\n",
      "k = 3,accuracy = 0.857143\n",
      "k = 3,accuracy = 1.000000\n",
      "k = 3,accuracy = 0.952381\n",
      "k = 3,accuracy = 0.857143\n",
      "k = 3,accuracy = 0.952381\n",
      "k = 5,accuracy = 0.857143\n",
      "k = 5,accuracy = 1.000000\n",
      "k = 5,accuracy = 0.952381\n",
      "k = 5,accuracy = 0.904762\n",
      "k = 5,accuracy = 0.952381\n",
      "k = 8,accuracy = 0.904762\n",
      "k = 8,accuracy = 1.000000\n",
      "k = 8,accuracy = 0.952381\n",
      "k = 8,accuracy = 0.904762\n",
      "k = 8,accuracy = 0.952381\n",
      "k = 10,accuracy = 0.952381\n",
      "k = 10,accuracy = 1.000000\n",
      "k = 10,accuracy = 0.952381\n",
      "k = 10,accuracy = 0.904762\n",
      "k = 10,accuracy = 0.952381\n",
      "k = 12,accuracy = 0.952381\n",
      "k = 12,accuracy = 1.000000\n",
      "k = 12,accuracy = 0.952381\n",
      "k = 12,accuracy = 0.857143\n",
      "k = 12,accuracy = 0.952381\n",
      "k = 15,accuracy = 0.952381\n",
      "k = 15,accuracy = 1.000000\n",
      "k = 15,accuracy = 0.952381\n",
      "k = 15,accuracy = 0.857143\n",
      "k = 15,accuracy = 0.952381\n",
      "k = 20,accuracy = 0.952381\n",
      "k = 20,accuracy = 1.000000\n",
      "k = 20,accuracy = 0.952381\n",
      "k = 20,accuracy = 0.761905\n",
      "k = 20,accuracy = 0.952381\n",
      "k = 50,accuracy = 1.000000\n",
      "k = 50,accuracy = 1.000000\n",
      "k = 50,accuracy = 0.904762\n",
      "k = 50,accuracy = 0.761905\n",
      "k = 50,accuracy = 0.904762\n",
      "k = 100,accuracy = 0.285714\n",
      "k = 100,accuracy = 0.380952\n",
      "k = 100,accuracy = 0.333333\n",
      "k = 100,accuracy = 0.238095\n",
      "k = 100,accuracy = 0.190476\n"
     ]
    }
   ],
   "source": [
    "# 五折 \n",
    "num_folds = 5 \n",
    "# 候选k值 \n",
    "k_choices = [1,3,5,8,10,12,15,20,50,100] \n",
    "X_train_folds = [] \n",
    "y_train_folds = [] \n",
    "# 训练数据划分 \n",
    "X_train_folds = np.array_split(X_train,num_folds) \n",
    "#训练标签划分\n",
    "y_train_folds = np.array_split(y_train,num_folds) \n",
    "k_to_accuracies = {} \n",
    "# 遍历所有候选k \n",
    "for k in k_choices: \n",
    "    # 五折遍历 \n",
    "    for fold in range(num_folds): \n",
    "        #为传入的训练集单独划分一个验证集作为测试集 \n",
    "        validation_x_test = X_train_folds[fold] \n",
    "        validation_y_test = y_train_folds[fold] \n",
    "        temp_x_train = np.concatenate(X_train_folds[:fold] + X_train_folds[fold+1:]) \n",
    "        temp_y_train = np.concatenate(y_train_folds[:fold]+y_train_folds[fold+1:]) \n",
    "        # 计算距离 \n",
    "        temp_dists = compute_distances(validation_x_test,temp_x_train) \n",
    "        temp_y_test_pred = predict_labels(temp_y_train,temp_dists, k = k) \n",
    "        temp_y_test_pred = temp_y_test_pred.reshape(-1,1) \n",
    "        # 查看分类准确率 \n",
    "        num_correct = np.sum(temp_y_test_pred == validation_y_test) \n",
    "        num_test = validation_x_test.shape[0] \n",
    "        accuracy = float(num_correct)/num_test \n",
    "        k_to_accuracies[k] = k_to_accuracies.get(k,[]) + [accuracy] \n",
    "\n",
    "# 打印不同k值，不同折数下的分类准确率 \n",
    "for k in sorted(k_to_accuracies): \n",
    "    for accuracy in k_to_accuracies[k]: \n",
    "        print('k = %d,accuracy = %f' % (k,accuracy)) "
   ]
  },
  {
   "cell_type": "markdown",
   "metadata": {},
   "source": [
    "## 不同k值下的分类准确率 "
   ]
  },
  {
   "cell_type": "code",
   "execution_count": 31,
   "metadata": {},
   "outputs": [
    {
     "data": {
      "image/png": "[encoded data removed]",
      "text/plain": [
       "<Figure size 432x288 with 1 Axes>"
      ]
     },
     "metadata": {
      "needs_background": "light"
     },
     "output_type": "display_data"
    }
   ],
   "source": [
    "for k in k_choices: \n",
    "    # 取出第k个k值的分类准确率 \n",
    "    accuracies = k_to_accuracies[k] \n",
    "    # 绘制不同k值下的分类准确率散点图 \n",
    "    plt.scatter([k]*len(accuracies),accuracies) \n",
    "# 计算分类准确率平均值并排序 \n",
    "accracies_mean = np.array([np.mean(v) for k,v in sorted(k_to_accuracies.items())]) \n",
    "# 计算分类准确率标准差并排序 \n",
    "accuracies_std = np.array([np.std(v) for k,v in sorted(k_to_accuracies.items())]) \n",
    "#绘制有置信区间的误差棒图 \n",
    "plt.errorbar(k_choices,accracies_mean,yerr = accuracies_std) \n",
    "plt.title('Cross validation on k ') \n",
    "plt.xlabel('k') \n",
    "plt.ylabel('cross validation accuracy') \n",
    "plt.show() "
   ]
  },
  {
   "cell_type": "markdown",
   "metadata": {},
   "source": [
    "## 基于sklearn的KNN"
   ]
  },
  {
   "cell_type": "code",
   "execution_count": 32,
   "metadata": {},
   "outputs": [
    {
     "name": "stdout",
     "output_type": "stream",
     "text": [
      "KNN Accuracy based on sklearn: , 0.9777777777777777\n"
     ]
    },
    {
     "name": "stderr",
     "output_type": "stream",
     "text": [
      "/Applications/anaconda3/lib/python3.7/site-packages/sklearn/neighbors/_classification.py:198: DataConversionWarning: A column-vector y was passed when a 1d array was expected. Please change the shape of y to (n_samples,), for example using ravel().\n",
      "  return self._fit(X, y)\n"
     ]
    }
   ],
   "source": [
    "from sklearn.neighbors import KNeighborsClassifier as KNN \n",
    "neigh = KNN(n_neighbors=10) \n",
    "neigh.fit(X_train,y_train) \n",
    "y_pred = neigh.predict(X_test) \n",
    "y_pred = y_pred.reshape(-1,1) \n",
    "# 计算分类的准确率\n",
    "accuracy = neigh.score(X_test,y_test)  \n",
    "print('KNN Accuracy based on sklearn: ,', accuracy)"
   ]
  },
  {
   "cell_type": "code",
   "execution_count": null,
   "metadata": {},
   "outputs": [],
   "source": []
  }
 ],
 "metadata": {
  "kernelspec": {
   "display_name": "Python 3.7.7 ('base')",
   "language": "python",
   "name": "python3"
  },
  "language_info": {
   "codemirror_mode": {
    "name": "ipython",
    "version": 3
   },
   "file_extension": ".py",
   "mimetype": "text/x-python",
   "name": "python",
   "nbconvert_exporter": "python",
   "pygments_lexer": "ipython3",
   "version": "3.7.7"
  },
  "orig_nbformat": 4,
  "vscode": {
   "interpreter": {
    "hash": "cd78fef2128015050713e82ca51c6520b11aee7c9ee8df750520bbbc7384cbaa"
   }
  }
 },
 "nbformat": 4,
 "nbformat_minor": 2
}
