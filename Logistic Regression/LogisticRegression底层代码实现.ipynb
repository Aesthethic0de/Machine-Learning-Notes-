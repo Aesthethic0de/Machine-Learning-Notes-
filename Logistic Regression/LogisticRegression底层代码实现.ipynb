{
 "cells": [
  {
   "cell_type": "markdown",
   "id": "38884d95-bc08-4a17-b0b0-c56cfaa2492b",
   "metadata": {},
   "source": [
    "### Logistic Regression "
   ]
  },
  {
   "cell_type": "markdown",
   "id": "acbec33a-604c-49b9-8b44-752fa04a544e",
   "metadata": {},
   "source": [
    "#### Numpy 实现 "
   ]
  },
  {
   "cell_type": "code",
   "execution_count": 1,
   "id": "ba69f4cd-c6a0-4c26-88ef-2c1de8ee733a",
   "metadata": {},
   "outputs": [],
   "source": [
    "import numpy as np \n",
    "import warnings\n",
    "warnings.filterwarnings(\"ignore\")"
   ]
  },
  {
   "cell_type": "code",
   "execution_count": 2,
   "id": "638bd70e-0c8f-4cc0-8052-d1adee2d24bb",
   "metadata": {},
   "outputs": [],
   "source": [
    "# sigmoid function \n",
    "def sigmoid(x): \n",
    "    \"\"\"\n",
    "    x is an array  \n",
    "    \n",
    "    the sigmoid function can help transfer the linear equation eg.w^TX + b between (0,1) \n",
    "    \"\"\" \n",
    "    z =  1/ (1+np.exp(-x)) \n",
    "    \n",
    "    return z "
   ]
  },
  {
   "cell_type": "code",
   "execution_count": 3,
   "id": "3af7e35d-b780-4a73-85ef-c632d6edb3cb",
   "metadata": {},
   "outputs": [],
   "source": [
    "# initialize the parameters \n",
    "def initialize_params(dims): \n",
    "    \"\"\" \n",
    "    dims is the dimension of the input array \n",
    "    \"\"\" \n",
    "    \n",
    "    W = np.zeros((dims,1)) \n",
    "    b = 0 \n",
    "    \n",
    "    return W, b "
   ]
  },
  {
   "cell_type": "code",
   "execution_count": 15,
   "id": "ff60a732-6c32-4c81-ae40-5560c7dd0e01",
   "metadata": {},
   "outputs": [],
   "source": [
    "# logistic regression \n",
    "def logistic(X,y,W,b): \n",
    "    \"\"\"\n",
    "    X is feature \n",
    "    y is label \n",
    "    w is parameter \n",
    "    b is bias \n",
    "    \"\"\" \n",
    "    # number of samples\n",
    "    num_train = X.shape[0] \n",
    "    # number  of features \n",
    "    num_feature = X.shape[1] \n",
    "    # logistics regression output yhat\n",
    "    a = sigmoid(np.dot(X,W)+b) \n",
    "    # cost function or loss function  \n",
    "    cost = -1/num_train * np.sum(y*np.log(a) + (1-y)*np.log(1-a)) \n",
    "    # weight  gradient  \n",
    "    # dw = d(loss)/dw\n",
    "    dW = np.dot(X.T,(a-y))/num_train \n",
    "    # bias gradient \n",
    "    db = np.sum(a-y)/ num_train \n",
    "    # squeeze \n",
    "    cost = np.squeeze(cost) \n",
    "    \n",
    "    return a,cost,dW,db "
   ]
  },
  {
   "cell_type": "code",
   "execution_count": 16,
   "id": "04bbabee-c543-4365-9400-056af0e1aeb9",
   "metadata": {},
   "outputs": [],
   "source": [
    "# training \n",
    "def logistic_train(X,y,learning_rate,epochs): \n",
    "    \"\"\" \n",
    "    X - feature \n",
    "    y - label \n",
    "    learning_rate \n",
    "    epochs - number of training \n",
    "    \"\"\" \n",
    "    # initialize the parameters \n",
    "    W,b = initialize_params(X.shape[1]) \n",
    "    # initialize the loss/ cost list \n",
    "    cost_list = [] \n",
    "    # train \n",
    "    for i in range(epochs): \n",
    "        a, cost,dW,db  = logistic(X,y,W,b) \n",
    "        #  update the parameter \n",
    "        W =W - learning_rate * dW \n",
    "        b = b - learning_rate * db \n",
    "        \n",
    "        # record the loss \n",
    "        if i%100 ==0: \n",
    "            cost_list.append(cost)  \n",
    "        if i%100==0:\n",
    "            print('epoch %d cost %f'%(i,cost)) \n",
    "            \n",
    "    params = {'W':W ,'b':b} \n",
    "    grads = {'dW':dW,'db':db} \n",
    "    \n",
    "    return cost_list,params,grads "
   ]
  },
  {
   "cell_type": "code",
   "execution_count": 29,
   "id": "3b009405-c7c8-43ef-bab1-c299cfad6070",
   "metadata": {},
   "outputs": [],
   "source": [
    "# prediction function \n",
    "def predict(X,params): \n",
    "    \"\"\"\n",
    "    X feature \n",
    "    params 训练好的参数 \n",
    "    \"\"\" \n",
    "    y_pred = sigmoid(np.dot(X,params['W']) + params['b']) \n",
    "    \n",
    "    # transfer the probability to 0 or 1 \n",
    "    for i in range(len(y_pred)): \n",
    "        if y_pred[i] > 0.5: \n",
    "            y_pred[i] = 1 \n",
    "        else: \n",
    "            y_pred[i]  = 0 \n",
    "    return y_pred "
   ]
  },
  {
   "cell_type": "code",
   "execution_count": 30,
   "id": "fc6ef2d3-90f7-403f-bee7-2c1d09958afe",
   "metadata": {},
   "outputs": [
    {
     "data": {
      "image/png": "[encoded data removed]",
      "text/plain": [
       "<Figure size 432x288 with 1 Axes>"
      ]
     },
     "metadata": {
      "needs_background": "light"
     },
     "output_type": "display_data"
    }
   ],
   "source": [
    "# 生成二分类数据集 \n",
    "import matplotlib.pyplot as plt \n",
    "from sklearn.datasets import make_blobs\n",
    "\n",
    "X,labels = make_blobs(\n",
    "    n_samples = 100, \n",
    "    n_features = 2, \n",
    "    random_state =1,\n",
    "    centers = 2) \n",
    "rng = np.random.RandomState(2) \n",
    "X +=2*rng.uniform(size = X.shape) \n",
    "unique_labels = set(labels) \n",
    "colors = plt.cm.Spectral(np.linspace(0,1,len(unique_labels))) \n",
    "#\n",
    "for k,col in zip(unique_labels,colors): \n",
    "    x_k = X[labels ==k] \n",
    "    plt.plot(x_k[:,0],x_k[:,1],'o', \n",
    "             markerfacecolor = col, \n",
    "             markeredgecolor = 'k', \n",
    "             markersize = 14) \n",
    "plt.title('Simulated Binary Data Set') \n",
    "plt.show() "
   ]
  },
  {
   "cell_type": "code",
   "execution_count": 31,
   "id": "4f71ac99-0065-4726-94a3-5b3705452d67",
   "metadata": {},
   "outputs": [
    {
     "name": "stdout",
     "output_type": "stream",
     "text": [
      "X_train =  (90, 2)\n",
      "X_test =  (10, 2)\n",
      "y_train= (90, 1)\n",
      "y_test= (10, 1)\n"
     ]
    }
   ],
   "source": [
    "# train test split \n",
    "offset = int(X.shape[0]*0.9) \n",
    "X_train,y_train = X[:offset],labels[:offset] \n",
    "X_test,y_test = X[offset:],labels[offset:] \n",
    "y_train = y_train.reshape(-1,1) \n",
    "y_test = y_test.reshape(-1,1) \n",
    "\n",
    "print('X_train = ',X_train.shape) \n",
    "print('X_test = ',X_test.shape) \n",
    "print('y_train=',y_train.shape) \n",
    "print('y_test=',y_test.shape) "
   ]
  },
  {
   "cell_type": "code",
   "execution_count": 32,
   "id": "a4de8f8a-2359-4dee-af58-301e3cbc8e3e",
   "metadata": {},
   "outputs": [
    {
     "name": "stdout",
     "output_type": "stream",
     "text": [
      "epoch 0 cost 0.693147\n",
      "epoch 100 cost 0.050674\n",
      "epoch 200 cost 0.027877\n",
      "epoch 300 cost 0.019704\n",
      "epoch 400 cost 0.015437\n",
      "epoch 500 cost 0.012793\n",
      "epoch 600 cost 0.010982\n",
      "epoch 700 cost 0.009658\n",
      "epoch 800 cost 0.008645\n",
      "epoch 900 cost 0.007843\n"
     ]
    }
   ],
   "source": [
    "# train \n",
    "cost_list,params,grads = logistic_train(X_train,y_train,0.01,1000) "
   ]
  },
  {
   "cell_type": "code",
   "execution_count": 33,
   "id": "f53a2b12-c6b1-460f-adcb-5d5aa64dde4e",
   "metadata": {},
   "outputs": [
    {
     "name": "stdout",
     "output_type": "stream",
     "text": [
      "{'W': array([[-0.40980584],\n",
      "       [-1.02708625]]), 'b': -0.12992063430830156}\n"
     ]
    }
   ],
   "source": [
    "print(params) "
   ]
  },
  {
   "cell_type": "code",
   "execution_count": 34,
   "id": "f775b3c9-fec8-450d-99f7-984ff2703a8b",
   "metadata": {},
   "outputs": [
    {
     "name": "stdout",
     "output_type": "stream",
     "text": [
      "{'dW': array([[0.00604689],\n",
      "       [0.02314078]]), 'db': 0.0045814658222318476}\n"
     ]
    }
   ],
   "source": [
    "print(grads) "
   ]
  },
  {
   "cell_type": "code",
   "execution_count": 35,
   "id": "7cd5f314-b775-44e7-a670-515062c42d0c",
   "metadata": {},
   "outputs": [
    {
     "name": "stdout",
     "output_type": "stream",
     "text": [
      "[[1.]\n",
      " [0.]\n",
      " [0.]\n",
      " [0.]\n",
      " [1.]\n",
      " [1.]\n",
      " [1.]\n",
      " [0.]\n",
      " [1.]\n",
      " [0.]]\n"
     ]
    }
   ],
   "source": [
    "y_pred = predict(X_test,params) \n",
    "print(y_pred) "
   ]
  },
  {
   "cell_type": "code",
   "execution_count": 36,
   "id": "8422ee5c-1a63-411f-99ba-a3dc65cb559e",
   "metadata": {},
   "outputs": [
    {
     "name": "stdout",
     "output_type": "stream",
     "text": [
      "              precision    recall  f1-score   support\n",
      "\n",
      "           0       1.00      1.00      1.00         5\n",
      "           1       1.00      1.00      1.00         5\n",
      "\n",
      "    accuracy                           1.00        10\n",
      "   macro avg       1.00      1.00      1.00        10\n",
      "weighted avg       1.00      1.00      1.00        10\n",
      "\n"
     ]
    }
   ],
   "source": [
    "from sklearn.metrics import classification_report \n",
    "print(classification_report(y_test,y_pred)) "
   ]
  },
  {
   "cell_type": "markdown",
   "id": "569f890d-867b-4c44-9941-547211c2a5ed",
   "metadata": {
    "tags": []
   },
   "source": [
    "#### sklearn 实现 "
   ]
  },
  {
   "cell_type": "code",
   "execution_count": 37,
   "id": "4a8786e1-6489-4672-9022-1531fb013c3a",
   "metadata": {},
   "outputs": [
    {
     "name": "stdout",
     "output_type": "stream",
     "text": [
      "[1 0 0 0 1 1 1 0 1 0]\n"
     ]
    }
   ],
   "source": [
    "from sklearn.linear_model import LogisticRegression as LR \n",
    "clf = LR(random_state = 0).fit(X_train,y_train) \n",
    "y_pred = clf.predict(X_test) \n",
    "print(y_pred) "
   ]
  },
  {
   "cell_type": "code",
   "execution_count": 38,
   "id": "c29b0e51-3e91-47dd-8d23-cc590faab6b8",
   "metadata": {},
   "outputs": [
    {
     "data": {
      "text/plain": [
       "array([[1],\n",
       "       [0],\n",
       "       [0],\n",
       "       [0],\n",
       "       [1],\n",
       "       [1],\n",
       "       [1],\n",
       "       [0],\n",
       "       [1],\n",
       "       [0]])"
      ]
     },
     "execution_count": 38,
     "metadata": {},
     "output_type": "execute_result"
    }
   ],
   "source": [
    "y_test "
   ]
  },
  {
   "cell_type": "code",
   "execution_count": null,
   "id": "f307b397-2726-4c04-90e4-f6ea9a2a7644",
   "metadata": {},
   "outputs": [],
   "source": []
  }
 ],
 "metadata": {
  "kernelspec": {
   "display_name": "Python 3 (ipykernel)",
   "language": "python",
   "name": "python3"
  },
  "language_info": {
   "codemirror_mode": {
    "name": "ipython",
    "version": 3
   },
   "file_extension": ".py",
   "mimetype": "text/x-python",
   "name": "python",
   "nbconvert_exporter": "python",
   "pygments_lexer": "ipython3",
   "version": "3.7.7"
  }
 },
 "nbformat": 4,
 "nbformat_minor": 5
}
