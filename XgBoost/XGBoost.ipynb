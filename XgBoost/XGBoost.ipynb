{
 "cells": [
  {
   "cell_type": "code",
   "execution_count": 1,
   "metadata": {},
   "outputs": [],
   "source": [
    "from xgboost import XGBRegressor as XGBR\n",
    "from sklearn.ensemble import RandomForestRegressor as RFR\n",
    "from sklearn.linear_model import LinearRegression as LinearR\n",
    "from sklearn.datasets import load_boston\n",
    "from sklearn.model_selection import KFold, cross_val_score as CVS, train_test_split as TTS\n",
    "from sklearn.metrics import mean_squared_error as MSE\n",
    "import pandas as pd\n",
    "import numpy as np\n",
    "import matplotlib.pyplot as plt\n",
    "from time import time\n",
    "import datetime"
   ]
  },
  {
   "cell_type": "code",
   "execution_count": 2,
   "metadata": {},
   "outputs": [
    {
     "name": "stderr",
     "output_type": "stream",
     "text": [
      "/Applications/anaconda3/lib/python3.7/site-packages/sklearn/utils/deprecation.py:87: FutureWarning: Function load_boston is deprecated; `load_boston` is deprecated in 1.0 and will be removed in 1.2.\n",
      "\n",
      "    The Boston housing prices dataset has an ethical problem. You can refer to\n",
      "    the documentation of this function for further details.\n",
      "\n",
      "    The scikit-learn maintainers therefore strongly discourage the use of this\n",
      "    dataset unless the purpose of the code is to study and educate about\n",
      "    ethical issues in data science and machine learning.\n",
      "\n",
      "    In this special case, you can fetch the dataset from the original\n",
      "    source::\n",
      "\n",
      "        import pandas as pd\n",
      "        import numpy as np\n",
      "\n",
      "\n",
      "        data_url = \"http://lib.stat.cmu.edu/datasets/boston\"\n",
      "        raw_df = pd.read_csv(data_url, sep=\"\\s+\", skiprows=22, header=None)\n",
      "        data = np.hstack([raw_df.values[::2, :], raw_df.values[1::2, :2]])\n",
      "        target = raw_df.values[1::2, 2]\n",
      "\n",
      "    Alternative datasets include the California housing dataset (i.e.\n",
      "    :func:`~sklearn.datasets.fetch_california_housing`) and the Ames housing\n",
      "    dataset. You can load the datasets as follows::\n",
      "\n",
      "        from sklearn.datasets import fetch_california_housing\n",
      "        housing = fetch_california_housing()\n",
      "\n",
      "    for the California housing dataset and::\n",
      "\n",
      "        from sklearn.datasets import fetch_openml\n",
      "        housing = fetch_openml(name=\"house_prices\", as_frame=True)\n",
      "\n",
      "    for the Ames housing dataset.\n",
      "    \n",
      "  warnings.warn(msg, category=FutureWarning)\n"
     ]
    }
   ],
   "source": [
    "  data = load_boston() \n",
    "  X = data.data \n",
    "  y = data.target"
   ]
  },
  {
   "cell_type": "code",
   "execution_count": 5,
   "metadata": {},
   "outputs": [
    {
     "data": {
      "text/plain": [
       "((506, 13), (506,))"
      ]
     },
     "execution_count": 5,
     "metadata": {},
     "output_type": "execute_result"
    }
   ],
   "source": [
    "X.shape,y.shape  "
   ]
  },
  {
   "cell_type": "code",
   "execution_count": 6,
   "metadata": {},
   "outputs": [],
   "source": [
    "Xtrain,Xtest,Ytrain,Ytest = TTS(X,y,test_size = 0.3,random_state =420) "
   ]
  },
  {
   "cell_type": "markdown",
   "metadata": {},
   "source": [
    "### 建立一个模型 Xgboost"
   ]
  },
  {
   "cell_type": "code",
   "execution_count": 7,
   "metadata": {},
   "outputs": [
    {
     "data": {
      "text/plain": [
       "0.9050988968414799"
      ]
     },
     "execution_count": 7,
     "metadata": {},
     "output_type": "execute_result"
    }
   ],
   "source": [
    "reg = XGBR(n_estimators  = 100).fit(Xtrain,Ytrain) \n",
    "reg.score(Xtest,Ytest) "
   ]
  },
  {
   "cell_type": "code",
   "execution_count": 8,
   "metadata": {},
   "outputs": [
    {
     "data": {
      "text/plain": [
       "8.830916343629323"
      ]
     },
     "execution_count": 8,
     "metadata": {},
     "output_type": "execute_result"
    }
   ],
   "source": [
    "MSE(Ytest,reg.predict(Xtest)) "
   ]
  },
  {
   "cell_type": "code",
   "execution_count": 10,
   "metadata": {},
   "outputs": [
    {
     "data": {
      "text/plain": [
       "array([0.01902167, 0.0042109 , 0.01478316, 0.00553537, 0.02222196,\n",
       "       0.37914088, 0.01679686, 0.0469872 , 0.04073574, 0.05491759,\n",
       "       0.06684221, 0.00869464, 0.3201119 ], dtype=float32)"
      ]
     },
     "execution_count": 10,
     "metadata": {},
     "output_type": "execute_result"
    }
   ],
   "source": [
    "reg.feature_importances_  "
   ]
  },
  {
   "cell_type": "markdown",
   "metadata": {},
   "source": [
    "### 交叉验证，与线性回归&随机森林回归进行对比 "
   ]
  },
  {
   "cell_type": "code",
   "execution_count": 12,
   "metadata": {},
   "outputs": [
    {
     "data": {
      "text/plain": [
       "19.464340339572285"
      ]
     },
     "execution_count": 12,
     "metadata": {},
     "output_type": "execute_result"
    }
   ],
   "source": [
    "# xgboost\n",
    "reg = XGBR(n_estimators = 100) \n",
    "-1* CVS(reg,X,y,cv = 5,scoring = 'neg_mean_squared_error').mean()"
   ]
  },
  {
   "cell_type": "code",
   "execution_count": 14,
   "metadata": {},
   "outputs": [
    {
     "data": {
      "text/plain": [
       "21.523378496641413"
      ]
     },
     "execution_count": 14,
     "metadata": {},
     "output_type": "execute_result"
    }
   ],
   "source": [
    "# random forest \n",
    "rfr = RFR(n_estimators = 100) \n",
    "-1 * CVS(rfr,X,y,cv = 5,scoring = 'neg_mean_squared_error').mean() "
   ]
  },
  {
   "cell_type": "code",
   "execution_count": 16,
   "metadata": {},
   "outputs": [
    {
     "data": {
      "text/plain": [
       "25.349507493648424"
      ]
     },
     "execution_count": 16,
     "metadata": {},
     "output_type": "execute_result"
    }
   ],
   "source": [
    "# linear regression \n",
    "lr = LinearR() \n",
    "-1 * CVS(lr,Xtrain,Ytrain,cv = 5, scoring = 'neg_mean_squared_error').mean() "
   ]
  },
  {
   "cell_type": "code",
   "execution_count": 17,
   "metadata": {},
   "outputs": [
    {
     "name": "stdout",
     "output_type": "stream",
     "text": [
      "[15:40:33] WARNING: ../src/learner.cc:576: \n",
      "Parameters: { \"silent\" } might not be used.\n",
      "\n",
      "  This could be a false alarm, with some parameters getting used by language bindings but\n",
      "  then being mistakenly passed down to XGBoost core, or some parameter actually being used\n",
      "  but getting flagged wrongly here. Please open an issue if you find any such cases.\n",
      "\n",
      "\n",
      "[15:40:33] WARNING: ../src/learner.cc:576: \n",
      "Parameters: { \"silent\" } might not be used.\n",
      "\n",
      "  This could be a false alarm, with some parameters getting used by language bindings but\n",
      "  then being mistakenly passed down to XGBoost core, or some parameter actually being used\n",
      "  but getting flagged wrongly here. Please open an issue if you find any such cases.\n",
      "\n",
      "\n",
      "[15:40:33] WARNING: ../src/learner.cc:576: \n",
      "Parameters: { \"silent\" } might not be used.\n",
      "\n",
      "  This could be a false alarm, with some parameters getting used by language bindings but\n",
      "  then being mistakenly passed down to XGBoost core, or some parameter actually being used\n",
      "  but getting flagged wrongly here. Please open an issue if you find any such cases.\n",
      "\n",
      "\n",
      "[15:40:33] WARNING: ../src/learner.cc:576: \n",
      "Parameters: { \"silent\" } might not be used.\n",
      "\n",
      "  This could be a false alarm, with some parameters getting used by language bindings but\n",
      "  then being mistakenly passed down to XGBoost core, or some parameter actually being used\n",
      "  but getting flagged wrongly here. Please open an issue if you find any such cases.\n",
      "\n",
      "\n",
      "[15:40:33] WARNING: ../src/learner.cc:576: \n",
      "Parameters: { \"silent\" } might not be used.\n",
      "\n",
      "  This could be a false alarm, with some parameters getting used by language bindings but\n",
      "  then being mistakenly passed down to XGBoost core, or some parameter actually being used\n",
      "  but getting flagged wrongly here. Please open an issue if you find any such cases.\n",
      "\n",
      "\n"
     ]
    },
    {
     "data": {
      "text/plain": [
       "21.972280404682667"
      ]
     },
     "execution_count": 17,
     "metadata": {},
     "output_type": "execute_result"
    }
   ],
   "source": [
    "#开启参数slient：在数据巨大，预料到算法运行会非常缓慢的时候可以使用这个参数来监控模型的训练进度\n",
    "reg = XGBR(n_estimators=10,silent=False) \n",
    "-1* CVS(reg,X,y,cv=5,scoring = 'neg_mean_squared_error').mean()"
   ]
  },
  {
   "cell_type": "code",
   "execution_count": 23,
   "metadata": {},
   "outputs": [],
   "source": [
    "def plot_learning_curve(estimator,title,X,y,\n",
    "                        ax = None, \n",
    "                        ylim = None, \n",
    "                        cv = None, \n",
    "                        n_jobs = None): \n",
    "            from sklearn.model_selection import learning_curve \n",
    "            import matplotlib.pyplot as plt \n",
    "            import numpy as np \n",
    "\n",
    "            train_sizes, train_scores,test_scores = learning_curve(estimator, X,y,shuffle = True, cv = cv,n_jobs = n_jobs) \n",
    "\n",
    "            if ax ==None: \n",
    "                ax = plt.gca()  \n",
    "            else: \n",
    "                ax = plt.figure() \n",
    "            ax.set_title(title) \n",
    "            if ylim is not None: \n",
    "                ax.set_ylim(*ylim) \n",
    "            ax.set_xlabel('Trainging examples') \n",
    "            ax.set_ylabel('score') \n",
    "            ax.plot(train_sizes,np.mean(train_scores,axis  =1),'o-',color = 'r',label = 'Training score') \n",
    "            ax.plot(train_sizes,np.mean(test_scores,axis = 1),'o-',color = 'g',label = 'Test score') \n",
    "            ax.legend(loc = 'best') \n",
    "            return ax \n"
   ]
  },
  {
   "cell_type": "code",
   "execution_count": 24,
   "metadata": {},
   "outputs": [
    {
     "data": {
      "image/png": "[encoded data removed]",
      "text/plain": [
       "<Figure size 432x288 with 1 Axes>"
      ]
     },
     "metadata": {
      "needs_background": "light"
     },
     "output_type": "display_data"
    }
   ],
   "source": [
    "cv = KFold(n_splits=5, shuffle = True, random_state=42)\n",
    "plot_learning_curve(XGBR(n_estimators=100,random_state=420)\n",
    ",\"XGB\",Xtrain,Ytrain,ax=None,cv=cv)\n",
    "plt.show()"
   ]
  },
  {
   "cell_type": "markdown",
   "metadata": {},
   "source": [
    "### 参数学习曲线观察n_estimators \n"
   ]
  },
  {
   "cell_type": "code",
   "execution_count": 26,
   "metadata": {},
   "outputs": [
    {
     "name": "stdout",
     "output_type": "stream",
     "text": [
      "110 9.03535374348125\n"
     ]
    },
    {
     "data": {
      "image/png": "[encoded data removed]",
      "text/plain": [
       "<Figure size 1440x360 with 1 Axes>"
      ]
     },
     "metadata": {
      "needs_background": "light"
     },
     "output_type": "display_data"
    }
   ],
   "source": [
    "axisx = range(10,1010,50) \n",
    "rs = [] \n",
    "for i in axisx: \n",
    "    reg = XGBR(n_estimators = i, random_state = 420) \n",
    "    rs.append(-1 * CVS(reg,X,y,cv = cv,scoring = 'neg_mean_squared_error').mean()) \n",
    "print(axisx[rs.index(min(rs))],min(rs)) \n",
    "plt.figure(figsize = (20,5)) \n",
    "plt.plot(axisx,rs, c = 'red',label = 'XGB') \n",
    "plt.legend() \n",
    "plt.show() "
   ]
  },
  {
   "cell_type": "markdown",
   "metadata": {},
   "source": [
    "### 有放回随机抽样： subsample"
   ]
  },
  {
   "cell_type": "code",
   "execution_count": 29,
   "metadata": {},
   "outputs": [
    {
     "name": "stdout",
     "output_type": "stream",
     "text": [
      "1.0 0.8925016376343864\n"
     ]
    },
    {
     "data": {
      "image/png": "[encoded data removed]",
      "text/plain": [
       "<Figure size 1440x360 with 1 Axes>"
      ]
     },
     "metadata": {
      "needs_background": "light"
     },
     "output_type": "display_data"
    }
   ],
   "source": [
    "axisx = np.linspace(0,1,20) \n",
    "rs = [] \n",
    "for i in axisx: \n",
    "    reg = XGBR(n_estimators = 110, subsample = i, random_state = 420) \n",
    "    rs.append( CVS(reg,X,y,cv = cv).mean()) \n",
    "\n",
    "print(axisx[rs.index(max(rs))],max(rs)) \n",
    "plt.figure(figsize = (20,5)) \n",
    "plt.plot(axisx, rs, c = 'green',label = 'XGB') \n",
    "plt.legend() \n",
    "plt.show() "
   ]
  },
  {
   "cell_type": "markdown",
   "metadata": {},
   "source": [
    "### 迭代决策树：重要参数eta "
   ]
  },
  {
   "cell_type": "code",
   "execution_count": 30,
   "metadata": {},
   "outputs": [],
   "source": [
    "def regassess(reg,Xtrain,Ytrain,cv,scoring = [\"r2\"],show=True):\n",
    "    score = []\n",
    "    for i in range(len(scoring)):\n",
    "        if show:\n",
    "            print(\"{}:{:.2f}\".format(scoring[i]\n",
    ",CVS(reg\n",
    ",Xtrain,Ytrain\n",
    ",cv=cv,scoring=scoring[i]).mean()))\n",
    "            score.append(CVS(reg,Xtrain,Ytrain,cv=cv,scoring=scoring[i]).mean())\n",
    "    return score"
   ]
  },
  {
   "cell_type": "code",
   "execution_count": 31,
   "metadata": {},
   "outputs": [
    {
     "name": "stdout",
     "output_type": "stream",
     "text": [
      "r2:0.83\n",
      "neg_mean_squared_error:-12.11\n"
     ]
    },
    {
     "data": {
      "text/plain": [
       "[0.8320726370396294, -12.109019124782568]"
      ]
     },
     "execution_count": 31,
     "metadata": {},
     "output_type": "execute_result"
    }
   ],
   "source": [
    "regassess(reg,Xtrain,Ytrain,cv,scoring = ['r2','neg_mean_squared_error']) "
   ]
  },
  {
   "cell_type": "code",
   "execution_count": 32,
   "metadata": {},
   "outputs": [
    {
     "data": {
      "text/plain": [
       "[]"
      ]
     },
     "execution_count": 32,
     "metadata": {},
     "output_type": "execute_result"
    }
   ],
   "source": [
    "regassess(reg,Xtrain,Ytrain,cv,scoring = ['r2','neg_mean_squared_error'],show = False)  "
   ]
  },
  {
   "cell_type": "code",
   "execution_count": 33,
   "metadata": {},
   "outputs": [
    {
     "name": "stdout",
     "output_type": "stream",
     "text": [
      "learning_rate  =0\n",
      "r2:-6.76\n",
      "neg_mean_squared_error:-567.55\n",
      "00:02:026342\n",
      "\t\n",
      "learning_rate  =0.2\n",
      "r2:0.83\n",
      "neg_mean_squared_error:-12.30\n",
      "00:03:291452\n",
      "\t\n",
      "learning_rate  =0.5\n",
      "r2:0.82\n",
      "neg_mean_squared_error:-12.48\n",
      "00:02:383120\n",
      "\t\n",
      "learning_rate  =1\n",
      "r2:0.71\n",
      "neg_mean_squared_error:-20.06\n",
      "00:01:684590\n",
      "\t\n"
     ]
    }
   ],
   "source": [
    "from time import time \n",
    "import datetime \n",
    "\n",
    "for i in [0,0.2,0.5,1]: \n",
    "    time0 = time() \n",
    "    reg = XGBR(n_estimators = 110,random_state = 420, \n",
    "                learning_rate = i) \n",
    "    print('learning_rate  ={}'.format(i)) \n",
    "    regassess(reg,Xtrain,Ytrain,cv,scoring = ['r2','neg_mean_squared_error']) \n",
    "    print(datetime.datetime.fromtimestamp(time()-time0).strftime('%M:%S:%f')) \n",
    "    print('\\t') "
   ]
  },
  {
   "cell_type": "code",
   "execution_count": 37,
   "metadata": {},
   "outputs": [
    {
     "name": "stdout",
     "output_type": "stream",
     "text": [
      "r2:0.82\n",
      "neg_mean_squared_error:-12.81\n",
      "r2:0.84\n",
      "neg_mean_squared_error:-12.02\n",
      "r2:0.83\n",
      "neg_mean_squared_error:-12.55\n",
      "r2:0.83\n",
      "neg_mean_squared_error:-12.30\n",
      "r2:0.82\n",
      "neg_mean_squared_error:-13.37\n",
      "r2:0.83\n",
      "neg_mean_squared_error:-12.11\n",
      "r2:0.81\n",
      "neg_mean_squared_error:-13.97\n",
      "r2:0.80\n",
      "neg_mean_squared_error:-14.57\n",
      "r2:0.79\n",
      "neg_mean_squared_error:-15.01\n",
      "r2:0.82\n",
      "neg_mean_squared_error:-12.48\n",
      "r2:0.80\n",
      "neg_mean_squared_error:-14.17\n",
      "r2:0.80\n",
      "neg_mean_squared_error:-14.49\n",
      "r2:0.77\n",
      "neg_mean_squared_error:-16.00\n",
      "r2:0.80\n",
      "neg_mean_squared_error:-13.59\n",
      "r2:0.72\n",
      "neg_mean_squared_error:-19.66\n",
      "r2:0.69\n",
      "neg_mean_squared_error:-21.94\n",
      "r2:0.74\n",
      "neg_mean_squared_error:-18.58\n",
      "r2:0.68\n",
      "neg_mean_squared_error:-21.87\n",
      "r2:0.72\n",
      "neg_mean_squared_error:-20.25\n",
      "0.1 0.8350716290107739\n"
     ]
    },
    {
     "data": {
      "image/png": "[encoded data removed]",
      "text/plain": [
       "<Figure size 1440x360 with 1 Axes>"
      ]
     },
     "metadata": {
      "needs_background": "light"
     },
     "output_type": "display_data"
    }
   ],
   "source": [
    "axisx = np.arange(0.05,1,0.05) \n",
    "rs = [] \n",
    "te = []  \n",
    "for i in axisx: \n",
    "    reg = XGBR(n_estimators = 110, random_state = 420, learning_rate = i) \n",
    "    score = regassess(reg,Xtrain,Ytrain,cv,scoring = ['r2','neg_mean_squared_error']) \n",
    "    test = reg.fit(Xtrain,Ytrain).score(Xtest,Ytest) \n",
    "    rs.append(score[0])  \n",
    "    te.append(test) \n",
    "\n",
    "print(axisx[rs.index(max(rs))],max(rs)) \n",
    "plt.figure(figsize = (20,5)) \n",
    "plt.plot(axisx,te,c = 'gray',label = 'XGB') \n",
    "plt.plot(axisx,rs,c = 'green',label = 'XGB') \n",
    "plt.legend()\n",
    "plt.show() "
   ]
  },
  {
   "cell_type": "markdown",
   "metadata": {},
   "source": [
    "### 让树停止生长：重要参数gamma "
   ]
  },
  {
   "cell_type": "code",
   "execution_count": 38,
   "metadata": {},
   "outputs": [
    {
     "name": "stdout",
     "output_type": "stream",
     "text": [
      "0.8 0.840869937975637 0.005891402581053541\n",
      "4.55 0.8270850835330702 0.004605425533747813\n",
      "0.8 0.840869937975637 0.005891402581053541 0.2988291499899019\n"
     ]
    },
    {
     "data": {
      "image/png": "[encoded data removed]",
      "text/plain": [
       "<Figure size 1440x360 with 1 Axes>"
      ]
     },
     "metadata": {
      "needs_background": "light"
     },
     "output_type": "display_data"
    }
   ],
   "source": [
    "axisx = np.arange(0,5,0.05) \n",
    "rs = [] \n",
    "var = [] \n",
    "ge = [] \n",
    "for i in axisx: \n",
    "    reg = XGBR(n_estimators = 180, random_state = 420,gamma = i) \n",
    "    result = CVS(reg,Xtrain,Ytrain,cv = cv) \n",
    "    rs.append(result.mean()) \n",
    "    var.append(result.var()) \n",
    "    ge.append(1- result.mean()**2 + result.var()) \n",
    "print(axisx[rs.index(max(rs))],max(rs),var[rs.index(max(rs))]) \n",
    "print(axisx[var.index(min(var))],rs[var.index(min(var))],min(var)) \n",
    "print(axisx[ge.index(min(ge))],rs[ge.index(min(ge))],var[ge.index(min(ge))],min(ge)) \n",
    "rs = np.array(rs) \n",
    "var = np.array(var)*0.1 \n",
    "plt.figure(figsize=(20,5))\n",
    "plt.plot(axisx,rs,c=\"black\",label=\"XGB\")\n",
    "plt.plot(axisx,rs+var,c=\"red\",linestyle='-.')\n",
    "plt.plot(axisx,rs-var,c=\"red\",linestyle='-.')\n",
    "plt.legend()\n",
    "plt.show()"
   ]
  },
  {
   "cell_type": "markdown",
   "metadata": {},
   "source": [
    "### xgb.cv "
   ]
  },
  {
   "cell_type": "code",
   "execution_count": 41,
   "metadata": {},
   "outputs": [
    {
     "name": "stdout",
     "output_type": "stream",
     "text": [
      "[14:06:01] WARNING: ../src/learner.cc:576: \n",
      "Parameters: { \"obj\", \"silent\" } might not be used.\n",
      "\n",
      "  This could be a false alarm, with some parameters getting used by language bindings but\n",
      "  then being mistakenly passed down to XGBoost core, or some parameter actually being used\n",
      "  but getting flagged wrongly here. Please open an issue if you find any such cases.\n",
      "\n",
      "\n",
      "[14:06:01] WARNING: ../src/learner.cc:576: \n",
      "Parameters: { \"obj\", \"silent\" } might not be used.\n",
      "\n",
      "  This could be a false alarm, with some parameters getting used by language bindings but\n",
      "  then being mistakenly passed down to XGBoost core, or some parameter actually being used\n",
      "  but getting flagged wrongly here. Please open an issue if you find any such cases.\n",
      "\n",
      "\n",
      "[14:06:01] WARNING: ../src/learner.cc:576: \n",
      "Parameters: { \"obj\", \"silent\" } might not be used.\n",
      "\n",
      "  This could be a false alarm, with some parameters getting used by language bindings but\n",
      "  then being mistakenly passed down to XGBoost core, or some parameter actually being used\n",
      "  but getting flagged wrongly here. Please open an issue if you find any such cases.\n",
      "\n",
      "\n",
      "[14:06:01] WARNING: ../src/learner.cc:576: \n",
      "Parameters: { \"obj\", \"silent\" } might not be used.\n",
      "\n",
      "  This could be a false alarm, with some parameters getting used by language bindings but\n",
      "  then being mistakenly passed down to XGBoost core, or some parameter actually being used\n",
      "  but getting flagged wrongly here. Please open an issue if you find any such cases.\n",
      "\n",
      "\n",
      "[14:06:01] WARNING: ../src/learner.cc:576: \n",
      "Parameters: { \"obj\", \"silent\" } might not be used.\n",
      "\n",
      "  This could be a false alarm, with some parameters getting used by language bindings but\n",
      "  then being mistakenly passed down to XGBoost core, or some parameter actually being used\n",
      "  but getting flagged wrongly here. Please open an issue if you find any such cases.\n",
      "\n",
      "\n",
      "00:1:264849\n"
     ]
    }
   ],
   "source": [
    "import xgboost as xgb \n",
    "dfull = xgb.DMatrix(X,y ) \n",
    "# 设定参数 \n",
    "param1 = {'silent':True, 'obj':'reg:linear','gamma':0} \n",
    "num_round = 180 \n",
    "n_fold = 5 \n",
    "# 使用类xgb.cv \n",
    "time0 = time() \n",
    "cvresult = xgb.cv(param1, dfull, num_round, n_fold) \n",
    "print(datetime.datetime.fromtimestamp(time() - time0).strftime('%M:%s:%f')) "
   ]
  },
  {
   "cell_type": "code",
   "execution_count": 42,
   "metadata": {},
   "outputs": [
    {
     "data": {
      "text/html": [
       "<div>\n",
       "<style scoped>\n",
       "    .dataframe tbody tr th:only-of-type {\n",
       "        vertical-align: middle;\n",
       "    }\n",
       "\n",
       "    .dataframe tbody tr th {\n",
       "        vertical-align: top;\n",
       "    }\n",
       "\n",
       "    .dataframe thead th {\n",
       "        text-align: right;\n",
       "    }\n",
       "</style>\n",
       "<table border=\"1\" class=\"dataframe\">\n",
       "  <thead>\n",
       "    <tr style=\"text-align: right;\">\n",
       "      <th></th>\n",
       "      <th>train-rmse-mean</th>\n",
       "      <th>train-rmse-std</th>\n",
       "      <th>test-rmse-mean</th>\n",
       "      <th>test-rmse-std</th>\n",
       "    </tr>\n",
       "  </thead>\n",
       "  <tbody>\n",
       "    <tr>\n",
       "      <th>0</th>\n",
       "      <td>17.105578</td>\n",
       "      <td>0.129116</td>\n",
       "      <td>17.163215</td>\n",
       "      <td>0.584297</td>\n",
       "    </tr>\n",
       "    <tr>\n",
       "      <th>1</th>\n",
       "      <td>12.337972</td>\n",
       "      <td>0.097557</td>\n",
       "      <td>12.519735</td>\n",
       "      <td>0.473458</td>\n",
       "    </tr>\n",
       "    <tr>\n",
       "      <th>2</th>\n",
       "      <td>8.994071</td>\n",
       "      <td>0.065756</td>\n",
       "      <td>9.404534</td>\n",
       "      <td>0.472310</td>\n",
       "    </tr>\n",
       "    <tr>\n",
       "      <th>3</th>\n",
       "      <td>6.629481</td>\n",
       "      <td>0.050323</td>\n",
       "      <td>7.250335</td>\n",
       "      <td>0.500342</td>\n",
       "    </tr>\n",
       "    <tr>\n",
       "      <th>4</th>\n",
       "      <td>4.954406</td>\n",
       "      <td>0.033209</td>\n",
       "      <td>5.920812</td>\n",
       "      <td>0.591874</td>\n",
       "    </tr>\n",
       "    <tr>\n",
       "      <th>...</th>\n",
       "      <td>...</td>\n",
       "      <td>...</td>\n",
       "      <td>...</td>\n",
       "      <td>...</td>\n",
       "    </tr>\n",
       "    <tr>\n",
       "      <th>175</th>\n",
       "      <td>0.001299</td>\n",
       "      <td>0.000289</td>\n",
       "      <td>3.669898</td>\n",
       "      <td>0.857676</td>\n",
       "    </tr>\n",
       "    <tr>\n",
       "      <th>176</th>\n",
       "      <td>0.001285</td>\n",
       "      <td>0.000261</td>\n",
       "      <td>3.669897</td>\n",
       "      <td>0.857677</td>\n",
       "    </tr>\n",
       "    <tr>\n",
       "      <th>177</th>\n",
       "      <td>0.001275</td>\n",
       "      <td>0.000239</td>\n",
       "      <td>3.669903</td>\n",
       "      <td>0.857669</td>\n",
       "    </tr>\n",
       "    <tr>\n",
       "      <th>178</th>\n",
       "      <td>0.001263</td>\n",
       "      <td>0.000217</td>\n",
       "      <td>3.669901</td>\n",
       "      <td>0.857672</td>\n",
       "    </tr>\n",
       "    <tr>\n",
       "      <th>179</th>\n",
       "      <td>0.001259</td>\n",
       "      <td>0.000208</td>\n",
       "      <td>3.669901</td>\n",
       "      <td>0.857671</td>\n",
       "    </tr>\n",
       "  </tbody>\n",
       "</table>\n",
       "<p>180 rows × 4 columns</p>\n",
       "</div>"
      ],
      "text/plain": [
       "     train-rmse-mean  train-rmse-std  test-rmse-mean  test-rmse-std\n",
       "0          17.105578        0.129116       17.163215       0.584297\n",
       "1          12.337972        0.097557       12.519735       0.473458\n",
       "2           8.994071        0.065756        9.404534       0.472310\n",
       "3           6.629481        0.050323        7.250335       0.500342\n",
       "4           4.954406        0.033209        5.920812       0.591874\n",
       "..               ...             ...             ...            ...\n",
       "175         0.001299        0.000289        3.669898       0.857676\n",
       "176         0.001285        0.000261        3.669897       0.857677\n",
       "177         0.001275        0.000239        3.669903       0.857669\n",
       "178         0.001263        0.000217        3.669901       0.857672\n",
       "179         0.001259        0.000208        3.669901       0.857671\n",
       "\n",
       "[180 rows x 4 columns]"
      ]
     },
     "execution_count": 42,
     "metadata": {},
     "output_type": "execute_result"
    }
   ],
   "source": [
    "cvresult "
   ]
  },
  {
   "cell_type": "code",
   "execution_count": 43,
   "metadata": {},
   "outputs": [
    {
     "data": {
      "image/png": "[encoded data removed]",
      "text/plain": [
       "<Figure size 432x288 with 1 Axes>"
      ]
     },
     "metadata": {
      "needs_background": "light"
     },
     "output_type": "display_data"
    }
   ],
   "source": [
    "plt.plot(range(1,181),cvresult.iloc[:,0],c = 'red',label = 'train,gamma = 0') \n",
    "plt.plot(range(1,181),cvresult.iloc[:,2],c = 'orange',label = 'test,gamma = 0') \n",
    "plt.legend() \n",
    "plt.show() "
   ]
  },
  {
   "cell_type": "code",
   "execution_count": 44,
   "metadata": {},
   "outputs": [
    {
     "name": "stdout",
     "output_type": "stream",
     "text": [
      "[14:28:38] WARNING: ../src/learner.cc:576: \n",
      "Parameters: { \"obj\", \"silent\" } might not be used.\n",
      "\n",
      "  This could be a false alarm, with some parameters getting used by language bindings but\n",
      "  then being mistakenly passed down to XGBoost core, or some parameter actually being used\n",
      "  but getting flagged wrongly here. Please open an issue if you find any such cases.\n",
      "\n",
      "\n",
      "[14:28:38] WARNING: ../src/learner.cc:576: \n",
      "Parameters: { \"obj\", \"silent\" } might not be used.\n",
      "\n",
      "  This could be a false alarm, with some parameters getting used by language bindings but\n",
      "  then being mistakenly passed down to XGBoost core, or some parameter actually being used\n",
      "  but getting flagged wrongly here. Please open an issue if you find any such cases.\n",
      "\n",
      "\n",
      "[14:28:38] WARNING: ../src/learner.cc:576: \n",
      "Parameters: { \"obj\", \"silent\" } might not be used.\n",
      "\n",
      "  This could be a false alarm, with some parameters getting used by language bindings but\n",
      "  then being mistakenly passed down to XGBoost core, or some parameter actually being used\n",
      "  but getting flagged wrongly here. Please open an issue if you find any such cases.\n",
      "\n",
      "\n",
      "[14:28:38] WARNING: ../src/learner.cc:576: \n",
      "Parameters: { \"obj\", \"silent\" } might not be used.\n",
      "\n",
      "  This could be a false alarm, with some parameters getting used by language bindings but\n",
      "  then being mistakenly passed down to XGBoost core, or some parameter actually being used\n",
      "  but getting flagged wrongly here. Please open an issue if you find any such cases.\n",
      "\n",
      "\n",
      "[14:28:38] WARNING: ../src/learner.cc:576: \n",
      "Parameters: { \"obj\", \"silent\" } might not be used.\n",
      "\n",
      "  This could be a false alarm, with some parameters getting used by language bindings but\n",
      "  then being mistakenly passed down to XGBoost core, or some parameter actually being used\n",
      "  but getting flagged wrongly here. Please open an issue if you find any such cases.\n",
      "\n",
      "\n"
     ]
    },
    {
     "data": {
      "image/png": "[encoded data removed]",
      "text/plain": [
       "<Figure size 1440x360 with 1 Axes>"
      ]
     },
     "metadata": {
      "needs_background": "light"
     },
     "output_type": "display_data"
    }
   ],
   "source": [
    "param2 = {'silent': True,'obj':'reg:linear','gamma':0,'eval_metric': 'mae'} \n",
    "cvresult1 = xgb.cv(param2, dfull, num_round,n_fold) \n",
    "\n",
    "plt.figure(figsize = (20,5)) \n",
    "plt.grid() \n",
    "plt.plot(range(1,181),cvresult1.iloc[:,0],c = 'red',label = 'train,gamma = 0') \n",
    "plt.plot(range(1,181),cvresult1.iloc[:,2],c = 'orange',label = 'test,gamma = 0') \n",
    "plt.legend() \n",
    "plt.show() "
   ]
  },
  {
   "cell_type": "code",
   "execution_count": 45,
   "metadata": {},
   "outputs": [
    {
     "name": "stdout",
     "output_type": "stream",
     "text": [
      "[14:34:10] WARNING: ../src/learner.cc:576: \n",
      "Parameters: { \"obj\", \"silent\" } might not be used.\n",
      "\n",
      "  This could be a false alarm, with some parameters getting used by language bindings but\n",
      "  then being mistakenly passed down to XGBoost core, or some parameter actually being used\n",
      "  but getting flagged wrongly here. Please open an issue if you find any such cases.\n",
      "\n",
      "\n",
      "[14:34:10] WARNING: ../src/learner.cc:576: \n",
      "Parameters: { \"obj\", \"silent\" } might not be used.\n",
      "\n",
      "  This could be a false alarm, with some parameters getting used by language bindings but\n",
      "  then being mistakenly passed down to XGBoost core, or some parameter actually being used\n",
      "  but getting flagged wrongly here. Please open an issue if you find any such cases.\n",
      "\n",
      "\n",
      "[14:34:10] WARNING: ../src/learner.cc:576: \n",
      "Parameters: { \"obj\", \"silent\" } might not be used.\n",
      "\n",
      "  This could be a false alarm, with some parameters getting used by language bindings but\n",
      "  then being mistakenly passed down to XGBoost core, or some parameter actually being used\n",
      "  but getting flagged wrongly here. Please open an issue if you find any such cases.\n",
      "\n",
      "\n",
      "[14:34:10] WARNING: ../src/learner.cc:576: \n",
      "Parameters: { \"obj\", \"silent\" } might not be used.\n",
      "\n",
      "  This could be a false alarm, with some parameters getting used by language bindings but\n",
      "  then being mistakenly passed down to XGBoost core, or some parameter actually being used\n",
      "  but getting flagged wrongly here. Please open an issue if you find any such cases.\n",
      "\n",
      "\n",
      "[14:34:10] WARNING: ../src/learner.cc:576: \n",
      "Parameters: { \"obj\", \"silent\" } might not be used.\n",
      "\n",
      "  This could be a false alarm, with some parameters getting used by language bindings but\n",
      "  then being mistakenly passed down to XGBoost core, or some parameter actually being used\n",
      "  but getting flagged wrongly here. Please open an issue if you find any such cases.\n",
      "\n",
      "\n",
      "00:01:307563\n"
     ]
    }
   ],
   "source": [
    "# 调整gamma \n",
    "param1 = {'silent':False,'obj':'reg:linear','gamma':0} \n",
    "param2 = {'silent':False,'obj':'reg:linear','gamma':20} \n",
    "\n",
    "num_round = 180 \n",
    "n_fold = 5 \n",
    "\n",
    "time0 = time() \n",
    "cvresult1 = xgb.cv(param1,dfull, num_round, n_fold) \n",
    "\n",
    "print(datetime.datetime.fromtimestamp(time()-time0).strftime('%M:%S:%f')) \n"
   ]
  },
  {
   "cell_type": "code",
   "execution_count": 46,
   "metadata": {},
   "outputs": [
    {
     "name": "stdout",
     "output_type": "stream",
     "text": [
      "[14:37:50] WARNING: ../src/learner.cc:576: \n",
      "Parameters: { \"obj\", \"silent\" } might not be used.\n",
      "\n",
      "  This could be a false alarm, with some parameters getting used by language bindings but\n",
      "  then being mistakenly passed down to XGBoost core, or some parameter actually being used\n",
      "  but getting flagged wrongly here. Please open an issue if you find any such cases.\n",
      "\n",
      "\n",
      "[14:37:50] WARNING: ../src/learner.cc:576: \n",
      "Parameters: { \"obj\", \"silent\" } might not be used.\n",
      "\n",
      "  This could be a false alarm, with some parameters getting used by language bindings but\n",
      "  then being mistakenly passed down to XGBoost core, or some parameter actually being used\n",
      "  but getting flagged wrongly here. Please open an issue if you find any such cases.\n",
      "\n",
      "\n",
      "[14:37:50] WARNING: ../src/learner.cc:576: \n",
      "Parameters: { \"obj\", \"silent\" } might not be used.\n",
      "\n",
      "  This could be a false alarm, with some parameters getting used by language bindings but\n",
      "  then being mistakenly passed down to XGBoost core, or some parameter actually being used\n",
      "  but getting flagged wrongly here. Please open an issue if you find any such cases.\n",
      "\n",
      "\n",
      "[14:37:50] WARNING: ../src/learner.cc:576: \n",
      "Parameters: { \"obj\", \"silent\" } might not be used.\n",
      "\n",
      "  This could be a false alarm, with some parameters getting used by language bindings but\n",
      "  then being mistakenly passed down to XGBoost core, or some parameter actually being used\n",
      "  but getting flagged wrongly here. Please open an issue if you find any such cases.\n",
      "\n",
      "\n",
      "[14:37:50] WARNING: ../src/learner.cc:576: \n",
      "Parameters: { \"obj\", \"silent\" } might not be used.\n",
      "\n",
      "  This could be a false alarm, with some parameters getting used by language bindings but\n",
      "  then being mistakenly passed down to XGBoost core, or some parameter actually being used\n",
      "  but getting flagged wrongly here. Please open an issue if you find any such cases.\n",
      "\n",
      "\n",
      "00:01:728760\n"
     ]
    }
   ],
   "source": [
    "time0 = time() \n",
    "cvresult2 = xgb.cv(param2,dfull,num_round,n_fold) \n",
    "print(datetime.datetime.fromtimestamp(time()-time0).strftime('%M:%S:%f')) "
   ]
  },
  {
   "cell_type": "code",
   "execution_count": 47,
   "metadata": {},
   "outputs": [
    {
     "data": {
      "image/png": "[encoded data removed]",
      "text/plain": [
       "<Figure size 1440x360 with 1 Axes>"
      ]
     },
     "metadata": {
      "needs_background": "light"
     },
     "output_type": "display_data"
    }
   ],
   "source": [
    "plt.figure(figsize = (20,5)) \n",
    "plt.plot(range(1,181),cvresult1.iloc[:,0],c = 'red',label = 'train,gamma = 0') \n",
    "plt.plot(range(1,181),cvresult1.iloc[:,2],c = 'blue',label = 'test,gamma=0') \n",
    "plt.plot(range(1,181),cvresult2.iloc[:,0],c = 'green',label = 'train,gamma=20') \n",
    "plt.plot(range(1,181),cvresult2.iloc[:,2],c = 'black',label = 'test,gamma=20') \n",
    "plt.legend() \n",
    "plt.show() "
   ]
  },
  {
   "cell_type": "markdown",
   "metadata": {},
   "source": [
    "### 试一个例子 "
   ]
  },
  {
   "cell_type": "code",
   "execution_count": 48,
   "metadata": {},
   "outputs": [],
   "source": [
    "from sklearn.datasets import load_breast_cancer \n",
    "data2 = load_breast_cancer() \n",
    "\n",
    "x2 = data2.data \n",
    "y2 = data2.target \n",
    "\n",
    "dfull2 = xgb.DMatrix(x2,y2) \n",
    "param1 = {'silent':True,'obj':'binary:logistic','gamma':0,'n_fold': 5} \n",
    "param2 = {'silent':True,'obj':'binary:logistic','gamma':2,'n_fold': 5}  \n",
    "\n",
    "num_round = 100 \n"
   ]
  },
  {
   "cell_type": "code",
   "execution_count": 49,
   "metadata": {},
   "outputs": [
    {
     "name": "stdout",
     "output_type": "stream",
     "text": [
      "[14:50:47] WARNING: ../src/learner.cc:576: \n",
      "Parameters: { \"n_fold\", \"obj\", \"silent\" } might not be used.\n",
      "\n",
      "  This could be a false alarm, with some parameters getting used by language bindings but\n",
      "  then being mistakenly passed down to XGBoost core, or some parameter actually being used\n",
      "  but getting flagged wrongly here. Please open an issue if you find any such cases.\n",
      "\n",
      "\n",
      "[14:50:47] WARNING: ../src/learner.cc:576: \n",
      "Parameters: { \"n_fold\", \"obj\", \"silent\" } might not be used.\n",
      "\n",
      "  This could be a false alarm, with some parameters getting used by language bindings but\n",
      "  then being mistakenly passed down to XGBoost core, or some parameter actually being used\n",
      "  but getting flagged wrongly here. Please open an issue if you find any such cases.\n",
      "\n",
      "\n",
      "[14:50:47] WARNING: ../src/learner.cc:576: \n",
      "Parameters: { \"n_fold\", \"obj\", \"silent\" } might not be used.\n",
      "\n",
      "  This could be a false alarm, with some parameters getting used by language bindings but\n",
      "  then being mistakenly passed down to XGBoost core, or some parameter actually being used\n",
      "  but getting flagged wrongly here. Please open an issue if you find any such cases.\n",
      "\n",
      "\n",
      "00:00:625514\n"
     ]
    }
   ],
   "source": [
    "\n",
    "time0 = time() \n",
    "cvresult1 = xgb.cv(param1,dfull2,num_round,metrics = ('error')) \n",
    "print(datetime.datetime.fromtimestamp(time()-time0).strftime('%M:%S:%f'))  "
   ]
  },
  {
   "cell_type": "code",
   "execution_count": 50,
   "metadata": {},
   "outputs": [
    {
     "name": "stdout",
     "output_type": "stream",
     "text": [
      "[14:50:52] WARNING: ../src/learner.cc:576: \n",
      "Parameters: { \"n_fold\", \"obj\", \"silent\" } might not be used.\n",
      "\n",
      "  This could be a false alarm, with some parameters getting used by language bindings but\n",
      "  then being mistakenly passed down to XGBoost core, or some parameter actually being used\n",
      "  but getting flagged wrongly here. Please open an issue if you find any such cases.\n",
      "\n",
      "\n",
      "[14:50:52] WARNING: ../src/learner.cc:576: \n",
      "Parameters: { \"n_fold\", \"obj\", \"silent\" } might not be used.\n",
      "\n",
      "  This could be a false alarm, with some parameters getting used by language bindings but\n",
      "  then being mistakenly passed down to XGBoost core, or some parameter actually being used\n",
      "  but getting flagged wrongly here. Please open an issue if you find any such cases.\n",
      "\n",
      "\n",
      "[14:50:52] WARNING: ../src/learner.cc:576: \n",
      "Parameters: { \"n_fold\", \"obj\", \"silent\" } might not be used.\n",
      "\n",
      "  This could be a false alarm, with some parameters getting used by language bindings but\n",
      "  then being mistakenly passed down to XGBoost core, or some parameter actually being used\n",
      "  but getting flagged wrongly here. Please open an issue if you find any such cases.\n",
      "\n",
      "\n",
      "00:00:873309\n"
     ]
    }
   ],
   "source": [
    "\n",
    "time0 = time() \n",
    "cvresult2 = xgb.cv(param2,dfull2,num_round,metrics = ('error')) \n",
    "print(datetime.datetime.fromtimestamp(time()-time0).strftime('%M:%S:%f'))  "
   ]
  },
  {
   "cell_type": "code",
   "execution_count": 51,
   "metadata": {},
   "outputs": [
    {
     "data": {
      "image/png": "[encoded data removed]",
      "text/plain": [
       "<Figure size 1440x360 with 1 Axes>"
      ]
     },
     "metadata": {
      "needs_background": "light"
     },
     "output_type": "display_data"
    }
   ],
   "source": [
    "plt.figure(figsize = (20,5)) \n",
    "plt.grid() \n",
    "plt.plot(range(1,101),cvresult1.iloc[:,0],c = 'red',label = 'train,gamma = 0') \n",
    "plt.plot(range(1,101),cvresult1.iloc[:,2],c = 'orange',label = 'test,gamma = 0')  \n",
    "plt.plot(range(1,101),cvresult2.iloc[:,0],c = 'yellow',label = 'train,gamma = 2')\n",
    "plt.plot(range(1,101),cvresult2.iloc[:,2],c = 'gray',label = 'test,gamma = 2') \n",
    "plt.legend() \n",
    "plt.show() \n",
    "  "
   ]
  },
  {
   "cell_type": "markdown",
   "metadata": {},
   "source": [
    "### 使用pickle保存模型 "
   ]
  },
  {
   "cell_type": "code",
   "execution_count": 52,
   "metadata": {},
   "outputs": [],
   "source": [
    "import pickle "
   ]
  },
  {
   "cell_type": "code",
   "execution_count": 53,
   "metadata": {},
   "outputs": [
    {
     "name": "stdout",
     "output_type": "stream",
     "text": [
      "[15:12:09] WARNING: ../src/learner.cc:576: \n",
      "Parameters: { \"obj\", \"silent\" } might not be used.\n",
      "\n",
      "  This could be a false alarm, with some parameters getting used by language bindings but\n",
      "  then being mistakenly passed down to XGBoost core, or some parameter actually being used\n",
      "  but getting flagged wrongly here. Please open an issue if you find any such cases.\n",
      "\n",
      "\n"
     ]
    }
   ],
   "source": [
    "dtrain = xgb.DMatrix(Xtrain,Ytrain) \n",
    "# 设定参数，对模型训练 \n",
    "param = {'silent':True, \n",
    "        'obj':'reg:linear', \n",
    "        'subsample':1,  \n",
    "        'eta':0.05, \n",
    "        'gamma':20, \n",
    "        'lambda':3.5, \n",
    "        'alpha':0.2, \n",
    "        'max_depth':4, \n",
    "        \"colsample_bytree\":0.4\n",
    "        ,\"colsample_bylevel\":0.6\n",
    "        ,\"colsample_bynode\":1} \n",
    "\n",
    "num_round = 180 \n",
    "bst = xgb.train(param, dtrain, num_round) \n",
    "#保存模型 \n",
    "pickle.dump(bst,open(\"xgboostonboston.dat\",\"wb\"))  "
   ]
  },
  {
   "cell_type": "markdown",
   "metadata": {},
   "source": [
    "在另一个notebook上test.ipynb导入模型 "
   ]
  },
  {
   "cell_type": "markdown",
   "metadata": {},
   "source": []
  }
 ],
 "metadata": {
  "kernelspec": {
   "display_name": "Python 3.7.7 ('base')",
   "language": "python",
   "name": "python3"
  },
  "language_info": {
   "codemirror_mode": {
    "name": "ipython",
    "version": 3
   },
   "file_extension": ".py",
   "mimetype": "text/x-python",
   "name": "python",
   "nbconvert_exporter": "python",
   "pygments_lexer": "ipython3",
   "version": "3.7.7"
  },
  "orig_nbformat": 4,
  "vscode": {
   "interpreter": {
    "hash": "cd78fef2128015050713e82ca51c6520b11aee7c9ee8df750520bbbc7384cbaa"
   }
  }
 },
 "nbformat": 4,
 "nbformat_minor": 2
}
